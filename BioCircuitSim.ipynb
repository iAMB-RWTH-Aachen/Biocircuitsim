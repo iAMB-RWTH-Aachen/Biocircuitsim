{
 "cells": [
  {
   "cell_type": "markdown",
   "id": "8cc3ad3e-4887-42e1-ae48-f2ebf302f782",
   "metadata": {},
   "source": [
    "# Biocircuit Design\n",
    "\n",
    "<hr>"
   ]
  },
  {
   "cell_type": "markdown",
   "id": "7391adea-c379-46e6-9b66-a312ba6cbabb",
   "metadata": {},
   "source": [
    "**Learning objectives**\n",
    "- You can define the classification basis for feedforward loops. (#1)\n",
    "- You can list the two most common feedforward loops types in microorganisms and their properties. (#2)\n",
    "- You can generate a truth table for a biological system. (#4)\n",
    "- You can distinguish *and* and *or* relationships. (#3)\n",
    "<hr>"
   ]
  },
  {
   "cell_type": "markdown",
   "id": "2243f863",
   "metadata": {},
   "source": [
    "### Exercise: Design a biocircuit for *Pseudomonas putida* carbon metabolism\n",
    "\n",
    "*Pseudomonas putida* is an industrial relevant microorganism which naturally produce PHA, a plastic precursor monomer. For a very specific process, we would like to design a circuit which enables us to make optimally use of our carbon resources. The preferred substrate for this specific proces is glucose. Glycerol can also be used, but results a lower product yield. We have a recycled feedstock which constains a mixture of glucose and glycerol. To make optimally use of the available glucose, we want to have a consumption profile where fist all glucose is consumed, before *P. putida* starts to consume glycerol. You can assume that the pathway is only activated when the metabolite is present.\n",
    "\n",
    "TODO: insert figure\n",
    "<div style=\"width: 500px; margin: auto;\">\n",
    "\n",
    "![Feedforward loop classes](../Figures/Jupyter/XNOR.png)\n",
    "\n",
    "</div>\n",
    "\n",
    "Your job is to design a biocircuit which enables this phenotype. Work through the material to get all the tools needed to solve the following exercises.\n",
    "\n",
    "1. Formulate a truth table for the glycerol pathway. \n",
    "2. Define the type of logic gate which you would use for each pathway, and write down the boolean logic.\n",
    "3. Think about the genetic components and levels needed to accomplish the logic gates, sketch a genetic interaction figure. Try to use as little genetic components as possible\n",
    "4. Combine the elements to design the experiment for the establishment of the genetic circuit. You have to pick one promoter (either activated by glucose or glycerol) and one regulator (glucose metabolism activator/repressor, or gycerol metabolism activator/repressor)"
   ]
  },
  {
   "cell_type": "code",
   "execution_count": 1,
   "id": "86b01552-87e8-4c14-bdcd-58b85d556ee1",
   "metadata": {
    "tags": [
     "hide-input"
    ]
   },
   "outputs": [
    {
     "name": "stdout",
     "output_type": "stream",
     "text": [
      "pydna not found, installing...\n",
      "Collecting pydna\n",
      "  Using cached pydna-5.2.0-py3-none-any.whl.metadata (17 kB)\n",
      "Collecting appdirs>=1.4.4 (from pydna)\n",
      "  Using cached appdirs-1.4.4-py2.py3-none-any.whl.metadata (9.0 kB)\n",
      "Collecting biopython>=1.80 (from pydna)\n",
      "  Using cached biopython-1.83-cp310-cp310-manylinux_2_17_x86_64.manylinux2014_x86_64.whl.metadata (13 kB)\n",
      "Requirement already satisfied: networkx>=2.8.8 in /home/codespace/.local/lib/python3.10/site-packages (from pydna) (3.2.1)\n",
      "Collecting prettytable>=3.5.0 (from pydna)\n",
      "  Using cached prettytable-3.10.0-py3-none-any.whl.metadata (30 kB)\n",
      "Collecting pyfiglet>=0.8.post1 (from pydna)\n",
      "  Using cached pyfiglet-1.0.2-py3-none-any.whl.metadata (7.1 kB)\n",
      "Collecting pyperclip>=1.8.2 (from pydna)\n",
      "  Using cached pyperclip-1.8.2-py3-none-any.whl\n",
      "Requirement already satisfied: numpy in /home/codespace/.local/lib/python3.10/site-packages (from biopython>=1.80->pydna) (1.26.4)\n",
      "Requirement already satisfied: wcwidth in /home/codespace/.local/lib/python3.10/site-packages (from prettytable>=3.5.0->pydna) (0.2.13)\n",
      "Using cached pydna-5.2.0-py3-none-any.whl (115 kB)\n",
      "Using cached appdirs-1.4.4-py2.py3-none-any.whl (9.6 kB)\n",
      "Using cached biopython-1.83-cp310-cp310-manylinux_2_17_x86_64.manylinux2014_x86_64.whl (3.1 MB)\n",
      "Using cached prettytable-3.10.0-py3-none-any.whl (28 kB)\n",
      "Using cached pyfiglet-1.0.2-py3-none-any.whl (1.1 MB)\n",
      "Installing collected packages: pyperclip, appdirs, pyfiglet, prettytable, biopython, pydna\n",
      "Successfully installed appdirs-1.4.4 biopython-1.83 prettytable-3.10.0 pydna-5.2.0 pyfiglet-1.0.2 pyperclip-1.8.2\n",
      "Note: you may need to restart the kernel to use updated packages.\n",
      "Done!\n"
     ]
    }
   ],
   "source": [
    "#Run this cell to set up the computing environment\n",
    "import numpy as np\n",
    "import os\n",
    "import random\n",
    " \n",
    "try:\n",
    "    import scipy.integrate\n",
    "except ImportError:\n",
    "    print(\"scipy not found, installing...\")\n",
    "    %pip install scipy\n",
    "    import scipy.integrate\n",
    "\n",
    "try:\n",
    "    import pydna\n",
    "except ImportError:\n",
    "    print(\"pydna not found, installing...\")\n",
    "    %pip install pydna\n",
    "    import pydna\n",
    "from pydna.design import primer_design\n",
    "from pydna.amplify import pcr\n",
    "from pydna.dseqrecord import Dseqrecord\n",
    "from pydna.gel import gel\n",
    "from pydna.ladders import GeneRuler_1kb_plus\n",
    "\n",
    "import colorcet\n",
    "colors = colorcet.b_glasbey_category10\n",
    "\n",
    "# try:\n",
    "#     import bokeh.io\n",
    "# except ImportError:\n",
    "#     print(\"bokeh not found, installing...\")\n",
    "#     %pip install bokeh\n",
    "#     import bokeh.io\n",
    "# import bokeh.layouts\n",
    "# import bokeh.models\n",
    "# import bokeh.plotting\n",
    "\n",
    "from BioCircuitSim_functions import *#(get_promoter_sequence, get_activator_sequence, get_repressor_sequence, \n",
    "                                    #  get_putida_genome, perform_batch_experiment)\n",
    "\n",
    "# bokeh.io.output_notebook()\n",
    "\n",
    "Target_Dir = os.path.join(os.getcwd(),'Data','BioMotifSim')\n",
    "\n",
    "print('Done!')"
   ]
  },
  {
   "cell_type": "markdown",
   "id": "69639be9",
   "metadata": {},
   "source": [
    "## Brief introduction to biocircuits\n",
    "The material presented here are excerpts from a Jupyter-book by [Elowitz and Bois](https://biocircuits.github.io/index.html), there you find more detailed treatment and further examples. We will use some of the foundational concepts, approaches, and examples that will enable us to address critical biological challenge of designing an experiment to enable a specific phenotype in *P. putida*. The key premise is that this problem and many similar problems can be addressed by thinking of biological systems in terms of *circuits* -- sets of molecular or cellular components that interact with another in specific ways.\n",
    "\n",
    "In this notebook we will use the idea of a circuit and the corresponding logic to enable a specific feature. We will show how to effectively analyze a problem and define a solution based on these principles.\n",
    "\n",
    "<hr>"
   ]
  },
  {
   "cell_type": "markdown",
   "id": "0542e157",
   "metadata": {},
   "source": [
    "## Logic of regulation \n",
    "In the example of carbon metabolism in *P. putida*, we need to define the specific interaction between the metabolites and the metabolism of these metabolites. Because glucose and glycerol are both present in our envisioned bioprocess, we need to specify how each metabolite needs to *interact* with the expressed systems.\n",
    "\n",
    "For the sake of illustration, let us assume we are discussing the effect of glucose and glycerol on glucose metabolism. As an example, we take the scenario where both glucose and glycerol are required to activate carbon metabolism. For example, both could be binding partners for the recruitment of polymerase to the promoter of a sugar transporter. We call this **AND logic**. In other words, to get expression of the sugar transporter, we must have `glucose AND glycerol`. Conversely, if either glucose or glycerol may each alone activate carbon metabolism, we have **OR logic**. That is, to get expression of the sugar transporter, we must have `glucose OR glycerol`."
   ]
  },
  {
   "cell_type": "markdown",
   "id": "bbca0f26-cc4a-44f9-b514-ae74816822e9",
   "metadata": {},
   "source": [
    "### Formulation of logic in a truth table\n",
    "Applying this logic to a simple example might be straightforward, but it can quickly become complex when applied to real biological systems. \n",
    "Let us start first with the simple example as before with glucose and glycerol, both activating, with AND logic. To help conceptualize how the logic translates into expression of carbon metabolism, we can construct a **truth table** for whether or not carbon metabolism (cmet) is on, given the on/off status of glucose (glc) and glycerol (gly). The truth table is shown below, with a zero entry meaning that the gene is not on and a one entry meaning it is on.\n",
    "\n",
    "\n",
    "glc | gly | cmet\n",
    ":---:|:---:|:----------:\n",
    "0 | 0 | 0\n",
    "0 | 1 | 0\n",
    "1 | 0 | 0\n",
    "1 | 1 | 1\n",
    "\n",
    "We can also construct a truth table for OR logic with glucose and glycerol both activating.\n",
    "\n",
    "\n",
    "glc | gly | cmet\n",
    ":---:|:---:|:----------:\n",
    "0 | 0 | 0\n",
    "0 | 1 | 1\n",
    "1 | 0 | 1\n",
    "1 | 1 | 1\n",
    "\n",
    "Before going to the next part of the notebook, think about the truth table for glucose metabolism in the exercise. What is the envisioned relation between presence of glucose and glycerol on the metabolism of glucose? Check your answer with the truth table at the end of this notebook\n"
   ]
  },
  {
   "cell_type": "markdown",
   "id": "dbba3613-b050-47de-b97f-3e0c9376c66e",
   "metadata": {},
   "source": [
    "### Connection to logic gates\n",
    "\n",
    "When two \"input\" effectors regulate the expression of a single \"output\" gene, we are tempted to connect the circuit architectures to [logic gates](https://en.wikipedia.org/wiki/Logic_gate). This is both useful and dangerous.\n",
    "\n",
    "[Boolean algebra](https://en.wikipedia.org/wiki/Boolean_algebra) is a very powerful tool in developing circuits in digital electronics, and is also a useful framework for designing biological circuits. Briefly, Boolean algebra deals with only trues and falses, or ones and zeros. It has three fundamental operations, conjuction (∧), disjunction (∨), and negation (¬). They are defined such that \n",
    "\n",
    "\\begin{align}\n",
    "&a \\land b = \\left\\{\\begin{array}{ll}\n",
    "1 & \\text{if } a=b=1 \\\\\n",
    "0 & \\text{otherwise},\n",
    "\\end{array}\n",
    "\\right.\\\\[1em]\n",
    "&a \\lor b = \\left\\{\\begin{array}{ll}\n",
    "0 & \\text{if } a=b=0 \\\\\n",
    "1 & \\text{otherwise},\n",
    "\\end{array}\n",
    "\\right.\\\\[1em]\n",
    "&\\lnot a = \\left\\{\\begin{array}{ll}\n",
    "0 & \\text{if } a=1 \\\\\n",
    "1 & \\text{if } a=0.\n",
    "\\end{array}\n",
    "\\right.\n",
    "\\end{align}\n",
    "\n",
    "One could think of two activators X and Y regulating expression of a gene Z with AND logic as Z = X ∧ Y. The relation X ∧ Y has a name; it is called an AND gate. The other architectures also represent logic gates. Below is a table of the analogous logic gates and Boolean algebra expressions for the two-effector regulation architectures we have considered.\n",
    "\n",
    "X | Y | regulatory logic | idealized logic gate | Boolean algebra\n",
    ":---:|:---:|:----------:|:---:|:---:|\n",
    "activator | activator | AND | AND | X ∧ Y\n",
    "activator | activator | OR | OR | X ∨ Y\n",
    "repressor | repressor | AND | NOR | ¬X ∧ ¬Y = ¬(X ∨ Y)\n",
    "repressor | repressor | OR | NAND | ¬X ∨ ¬Y = ¬(X ∧ Y)\n",
    "activator | repressor | AND | NIMPLY | X ∧ ¬Y\n",
    "activator | repressor | OR | IMPLY* | X ∨ ¬Y\n",
    "\n",
    "*An IMPLY gate has a Boolean algebraic representation of ¬X ∨ Y, which we would get if we had arbitrarily chosen X to be the repressor instead of Y.\n",
    "\n",
    "Now, let's consider the danger in using digital logic with these circuits. While thinking digitally for these circuits has its merit, we must always remember that biological circuits are more fuzzy. If you will attend the lecture about logic gates later this seminar, you will learn more about the why and how.\n",
    "\n",
    "<hr>"
   ]
  },
  {
   "cell_type": "markdown",
   "id": "88888634",
   "metadata": {},
   "source": [
    "## Starting the exercises\n",
    "\n",
    "Now you have gathered enough knowledge to perform the exercises. In the following cells, you find the code required for making exercise 4. You only have to change those parts which are marked with multiple `#`.\n",
    "\n",
    "### Execution of exercise 4"
   ]
  },
  {
   "cell_type": "code",
   "execution_count": 2,
   "id": "9a35852f",
   "metadata": {},
   "outputs": [],
   "source": [
    "#####################################################\n",
    "# FILL IN YOUR STUDENT ID\n",
    "student_number = 1111\n",
    "# END OF CODE\n",
    "#####################################################\n",
    "\n",
    "try:\n",
    "    random.seed(student_number)\n",
    "except:\n",
    "    raise KeyError('Please provide your student number in the previous cell, otherwise the code will not run')\n",
    "    \n",
    "#We obtain the sequences of the promoters and regulators from an in-house library\n",
    "promoter_glc = get_promoter_sequence(activator = 'glucose')\n",
    "promoter_glyc = get_promoter_sequence(activator = 'glycerol')\n",
    "\n",
    "glucose_activator = get_activator_sequence(metabolism = 'glucose')\n",
    "glucose_repressor = get_repressor_sequence(metabolism = 'glucose')\n",
    "glycerol_activator = get_activator_sequence(metabolism = 'glycerol')\n",
    "glycerol_repressor = get_repressor_sequence(metabolism = 'glycerol')"
   ]
  },
  {
   "cell_type": "code",
   "execution_count": 11,
   "id": "76ef9d2e",
   "metadata": {},
   "outputs": [
    {
     "name": "stdout",
     "output_type": "stream",
     "text": [
      "The promoter, nt-length: 56, is: TTCTCGATACAGTTCACGCCCTTGCGAGTAGCTTGTAATTGCTCTTCTGGGGGTCA\n",
      "The repressor, nt-length: 174, is: TCGGGCTATAGGCGCTCAGGCCGGCCCGGACGGATCGAGCTGGAGGCCTGACCTCCGTATGGTTCCCGACACTTTAGCGCATCTGCGACAGAGAGTGGTTACACGTTTTGCAGTGCGGTAAAATCCTTTCATTAGCCCTCCCGGGAAGCAGGCACGGGGTTTCTATATAGTAGA\n"
     ]
    }
   ],
   "source": [
    "#######################################################\n",
    "# FILL YOUR DECISION IN HERE\n",
    "promoter = promoter_glc\n",
    "regulator = glycerol_repressor\n",
    "# END OF CODE\n",
    "#######################################################\n",
    "\n",
    "print(f'The promoter, nt-length: {len(promoter)}, is: {promoter}')\n",
    "print(f'The repressor, nt-length: {len(regulator)}, is: {regulator}')"
   ]
  },
  {
   "cell_type": "markdown",
   "id": "a0343c40",
   "metadata": {},
   "source": [
    "##### Do the cloning\n",
    "Now you have designed the circuit, we only have to insert it into *P. putida*. Assuming your colleagues have implemented this already, all you need to do is run a PCR to validate the results"
   ]
  },
  {
   "cell_type": "code",
   "execution_count": 12,
   "id": "3fa3c144",
   "metadata": {},
   "outputs": [
    {
     "data": {
      "text/plain": [
       "Dseqrecord(-230)\n",
       "\u001b[48;5;11mTTCTCGATACAGTTCACGCCCTTGCGAGTAGCTTGTAATTGCTCTTCTGGGGGTCATCGGGCTATAGGCGCTCAGGCCGGCCCGGACGGATCGAGCTGGAGGCCTGACCTCCGTATGGTTCCCGACACTTTAGCGCATCTGCGACAGAGAGTGGTTACACGTTTTGCAGTGCGGTAAAATCCTTTCATTAGCCCTCCCGGGAAGCAGGCACGGGGTTTCTATATAGTAGA\u001b[0m\n",
       "AAGAGCTATGTCAAGTGCGGGAACGCTCATCGAACATTAACGAGAAGACCCCCAGTAGCCCGATATCCGCGAGTCCGGCCGGGCCTGCCTAGCTCGACCTCCGGACTGGAGGCATACCAAGGGCTGTGAAATCGCGTAGACGCTGTCTCTCACCAATGTGCAAAACGTCACGCCATTTTAGGAAAGTAATCGGGAGGGCCCTTCGTCCGTGCCCCAAAGATATATCATCT"
      ]
     },
     "execution_count": 12,
     "metadata": {},
     "output_type": "execute_result"
    }
   ],
   "source": [
    "# create the insert sequence and see how the DNA looks like\n",
    "insert = Dseqrecord(promoter+regulator)\n",
    "insert.add_feature()\n",
    "insert.figure()"
   ]
  },
  {
   "cell_type": "markdown",
   "id": "df3daadf",
   "metadata": {},
   "source": [
    "#### Do the PCR"
   ]
  },
  {
   "cell_type": "code",
   "execution_count": 13,
   "id": "403e1361",
   "metadata": {},
   "outputs": [],
   "source": [
    "#design the primers for pcr amplification\n",
    "primers = primer_design(insert)\n",
    "#get the modified\n",
    "putida_genome = get_putida_genome(promoter, regulator)\n",
    "\n",
    "# Do the PCR\n",
    "pcr_product = pcr(primers.forward_primer, primers.reverse_primer, putida_genome)"
   ]
  },
  {
   "cell_type": "code",
   "execution_count": 16,
   "id": "fd08fb04",
   "metadata": {},
   "outputs": [
    {
     "data": {
      "image/jpeg": "[encoded data removed]",
      "image/png": "[encoded data removed]",
      "text/plain": [
       "<PIL.Image.Image image mode=RGB size=240x600>"
      ]
     },
     "execution_count": 16,
     "metadata": {},
     "output_type": "execute_result"
    }
   ],
   "source": [
    "# Create a gel to see if the PCR and insertion worked\n",
    "im = gel([GeneRuler_1kb_plus,\n",
    "          [insert], #what you want to find\n",
    "          [pcr_product]]) #The pcr product of the genome: is your construct in there?\n",
    "im"
   ]
  },
  {
   "cell_type": "markdown",
   "id": "d96a2e1b",
   "metadata": {},
   "source": [
    "#### Check the resulting phenotypes\n",
    "Now we are sure that the insert is there, we will run some experiments to check if we get the required phenotype."
   ]
  },
  {
   "cell_type": "code",
   "execution_count": 15,
   "id": "d435bc4f",
   "metadata": {},
   "outputs": [
    {
     "data": {
      "image/png": "[encoded data removed]",
      "text/plain": [
       "<Figure size 640x480 with 1 Axes>"
      ]
     },
     "metadata": {},
     "output_type": "display_data"
    }
   ],
   "source": [
    "perform_batch_experiment(putida_genome, insert)"
   ]
  },
  {
   "cell_type": "markdown",
   "id": "b0ce48b0-774f-49ef-859b-67a1f4185d4a",
   "metadata": {},
   "source": [
    "<hr>\n",
    "\n",
    "## References\n",
    "\n",
    "- Bintu, L., et al., Transcriptional regulation by the numbers: models, _Curr. Op. Genet. Dev._, 15, 116–124, 2005.([link](https://doi.org/10.1016/j.gde.2005.02.007))\n",
    "- Milo, R., et al., Network motifs: Simple building blocks of complex networks, _Science_, 298, 824–827, 2002. ([link](https://doi.org/10.1126/science.298.5594.824))"
   ]
  },
  {
   "cell_type": "markdown",
   "id": "33422b54-a70f-4df6-9a2e-0f54c0de8cb7",
   "metadata": {},
   "source": [
    "## Computing environment"
   ]
  },
  {
   "cell_type": "code",
   "execution_count": 15,
   "id": "e47ad9c3-ffdc-4ce5-b160-48efcb73e12e",
   "metadata": {},
   "outputs": [
    {
     "ename": "ModuleNotFoundError",
     "evalue": "No module named 'watermark'",
     "output_type": "error",
     "traceback": [
      "\u001b[0;31m---------------------------------------------------------------------------\u001b[0m",
      "\u001b[0;31mModuleNotFoundError\u001b[0m                       Traceback (most recent call last)",
      "Cell \u001b[0;32mIn[15], line 1\u001b[0m\n\u001b[0;32m----> 1\u001b[0m \u001b[43mget_ipython\u001b[49m\u001b[43m(\u001b[49m\u001b[43m)\u001b[49m\u001b[38;5;241;43m.\u001b[39;49m\u001b[43mrun_line_magic\u001b[49m\u001b[43m(\u001b[49m\u001b[38;5;124;43m'\u001b[39;49m\u001b[38;5;124;43mload_ext\u001b[39;49m\u001b[38;5;124;43m'\u001b[39;49m\u001b[43m,\u001b[49m\u001b[43m \u001b[49m\u001b[38;5;124;43m'\u001b[39;49m\u001b[38;5;124;43mwatermark\u001b[39;49m\u001b[38;5;124;43m'\u001b[39;49m\u001b[43m)\u001b[49m\n\u001b[1;32m      2\u001b[0m get_ipython()\u001b[38;5;241m.\u001b[39mrun_line_magic(\u001b[38;5;124m'\u001b[39m\u001b[38;5;124mwatermark\u001b[39m\u001b[38;5;124m'\u001b[39m, \u001b[38;5;124m'\u001b[39m\u001b[38;5;124m-v -p numpy,scipy,bokeh,biocircuits,jupyterlab\u001b[39m\u001b[38;5;124m'\u001b[39m)\n",
      "File \u001b[0;32m~/Software/anaconda3/envs/BioLabSim_py39/lib/python3.9/site-packages/IPython/core/interactiveshell.py:2432\u001b[0m, in \u001b[0;36mInteractiveShell.run_line_magic\u001b[0;34m(self, magic_name, line, _stack_depth)\u001b[0m\n\u001b[1;32m   2430\u001b[0m     kwargs[\u001b[38;5;124m'\u001b[39m\u001b[38;5;124mlocal_ns\u001b[39m\u001b[38;5;124m'\u001b[39m] \u001b[38;5;241m=\u001b[39m \u001b[38;5;28mself\u001b[39m\u001b[38;5;241m.\u001b[39mget_local_scope(stack_depth)\n\u001b[1;32m   2431\u001b[0m \u001b[38;5;28;01mwith\u001b[39;00m \u001b[38;5;28mself\u001b[39m\u001b[38;5;241m.\u001b[39mbuiltin_trap:\n\u001b[0;32m-> 2432\u001b[0m     result \u001b[38;5;241m=\u001b[39m \u001b[43mfn\u001b[49m\u001b[43m(\u001b[49m\u001b[38;5;241;43m*\u001b[39;49m\u001b[43margs\u001b[49m\u001b[43m,\u001b[49m\u001b[43m \u001b[49m\u001b[38;5;241;43m*\u001b[39;49m\u001b[38;5;241;43m*\u001b[39;49m\u001b[43mkwargs\u001b[49m\u001b[43m)\u001b[49m\n\u001b[1;32m   2434\u001b[0m \u001b[38;5;66;03m# The code below prevents the output from being displayed\u001b[39;00m\n\u001b[1;32m   2435\u001b[0m \u001b[38;5;66;03m# when using magics with decorator @output_can_be_silenced\u001b[39;00m\n\u001b[1;32m   2436\u001b[0m \u001b[38;5;66;03m# when the last Python token in the expression is a ';'.\u001b[39;00m\n\u001b[1;32m   2437\u001b[0m \u001b[38;5;28;01mif\u001b[39;00m \u001b[38;5;28mgetattr\u001b[39m(fn, magic\u001b[38;5;241m.\u001b[39mMAGIC_OUTPUT_CAN_BE_SILENCED, \u001b[38;5;28;01mFalse\u001b[39;00m):\n",
      "File \u001b[0;32m~/Software/anaconda3/envs/BioLabSim_py39/lib/python3.9/site-packages/IPython/core/magics/extension.py:33\u001b[0m, in \u001b[0;36mExtensionMagics.load_ext\u001b[0;34m(self, module_str)\u001b[0m\n\u001b[1;32m     31\u001b[0m \u001b[38;5;28;01mif\u001b[39;00m \u001b[38;5;129;01mnot\u001b[39;00m module_str:\n\u001b[1;32m     32\u001b[0m     \u001b[38;5;28;01mraise\u001b[39;00m UsageError(\u001b[38;5;124m'\u001b[39m\u001b[38;5;124mMissing module name.\u001b[39m\u001b[38;5;124m'\u001b[39m)\n\u001b[0;32m---> 33\u001b[0m res \u001b[38;5;241m=\u001b[39m \u001b[38;5;28;43mself\u001b[39;49m\u001b[38;5;241;43m.\u001b[39;49m\u001b[43mshell\u001b[49m\u001b[38;5;241;43m.\u001b[39;49m\u001b[43mextension_manager\u001b[49m\u001b[38;5;241;43m.\u001b[39;49m\u001b[43mload_extension\u001b[49m\u001b[43m(\u001b[49m\u001b[43mmodule_str\u001b[49m\u001b[43m)\u001b[49m\n\u001b[1;32m     35\u001b[0m \u001b[38;5;28;01mif\u001b[39;00m res \u001b[38;5;241m==\u001b[39m \u001b[38;5;124m'\u001b[39m\u001b[38;5;124malready loaded\u001b[39m\u001b[38;5;124m'\u001b[39m:\n\u001b[1;32m     36\u001b[0m     \u001b[38;5;28mprint\u001b[39m(\u001b[38;5;124m\"\u001b[39m\u001b[38;5;124mThe \u001b[39m\u001b[38;5;132;01m%s\u001b[39;00m\u001b[38;5;124m extension is already loaded. To reload it, use:\u001b[39m\u001b[38;5;124m\"\u001b[39m \u001b[38;5;241m%\u001b[39m module_str)\n",
      "File \u001b[0;32m~/Software/anaconda3/envs/BioLabSim_py39/lib/python3.9/site-packages/IPython/core/extensions.py:76\u001b[0m, in \u001b[0;36mExtensionManager.load_extension\u001b[0;34m(self, module_str)\u001b[0m\n\u001b[1;32m     69\u001b[0m \u001b[38;5;250m\u001b[39m\u001b[38;5;124;03m\"\"\"Load an IPython extension by its module name.\u001b[39;00m\n\u001b[1;32m     70\u001b[0m \n\u001b[1;32m     71\u001b[0m \u001b[38;5;124;03mReturns the string \"already loaded\" if the extension is already loaded,\u001b[39;00m\n\u001b[1;32m     72\u001b[0m \u001b[38;5;124;03m\"no load function\" if the module doesn't have a load_ipython_extension\u001b[39;00m\n\u001b[1;32m     73\u001b[0m \u001b[38;5;124;03mfunction, or None if it succeeded.\u001b[39;00m\n\u001b[1;32m     74\u001b[0m \u001b[38;5;124;03m\"\"\"\u001b[39;00m\n\u001b[1;32m     75\u001b[0m \u001b[38;5;28;01mtry\u001b[39;00m:\n\u001b[0;32m---> 76\u001b[0m     \u001b[38;5;28;01mreturn\u001b[39;00m \u001b[38;5;28;43mself\u001b[39;49m\u001b[38;5;241;43m.\u001b[39;49m\u001b[43m_load_extension\u001b[49m\u001b[43m(\u001b[49m\u001b[43mmodule_str\u001b[49m\u001b[43m)\u001b[49m\n\u001b[1;32m     77\u001b[0m \u001b[38;5;28;01mexcept\u001b[39;00m \u001b[38;5;167;01mModuleNotFoundError\u001b[39;00m:\n\u001b[1;32m     78\u001b[0m     \u001b[38;5;28;01mif\u001b[39;00m module_str \u001b[38;5;129;01min\u001b[39;00m BUILTINS_EXTS:\n",
      "File \u001b[0;32m~/Software/anaconda3/envs/BioLabSim_py39/lib/python3.9/site-packages/IPython/core/extensions.py:91\u001b[0m, in \u001b[0;36mExtensionManager._load_extension\u001b[0;34m(self, module_str)\u001b[0m\n\u001b[1;32m     89\u001b[0m \u001b[38;5;28;01mwith\u001b[39;00m \u001b[38;5;28mself\u001b[39m\u001b[38;5;241m.\u001b[39mshell\u001b[38;5;241m.\u001b[39mbuiltin_trap:\n\u001b[1;32m     90\u001b[0m     \u001b[38;5;28;01mif\u001b[39;00m module_str \u001b[38;5;129;01mnot\u001b[39;00m \u001b[38;5;129;01min\u001b[39;00m sys\u001b[38;5;241m.\u001b[39mmodules:\n\u001b[0;32m---> 91\u001b[0m         mod \u001b[38;5;241m=\u001b[39m \u001b[43mimport_module\u001b[49m\u001b[43m(\u001b[49m\u001b[43mmodule_str\u001b[49m\u001b[43m)\u001b[49m\n\u001b[1;32m     92\u001b[0m     mod \u001b[38;5;241m=\u001b[39m sys\u001b[38;5;241m.\u001b[39mmodules[module_str]\n\u001b[1;32m     93\u001b[0m     \u001b[38;5;28;01mif\u001b[39;00m \u001b[38;5;28mself\u001b[39m\u001b[38;5;241m.\u001b[39m_call_load_ipython_extension(mod):\n",
      "File \u001b[0;32m~/Software/anaconda3/envs/BioLabSim_py39/lib/python3.9/importlib/__init__.py:127\u001b[0m, in \u001b[0;36mimport_module\u001b[0;34m(name, package)\u001b[0m\n\u001b[1;32m    125\u001b[0m             \u001b[38;5;28;01mbreak\u001b[39;00m\n\u001b[1;32m    126\u001b[0m         level \u001b[38;5;241m+\u001b[39m\u001b[38;5;241m=\u001b[39m \u001b[38;5;241m1\u001b[39m\n\u001b[0;32m--> 127\u001b[0m \u001b[38;5;28;01mreturn\u001b[39;00m \u001b[43m_bootstrap\u001b[49m\u001b[38;5;241;43m.\u001b[39;49m\u001b[43m_gcd_import\u001b[49m\u001b[43m(\u001b[49m\u001b[43mname\u001b[49m\u001b[43m[\u001b[49m\u001b[43mlevel\u001b[49m\u001b[43m:\u001b[49m\u001b[43m]\u001b[49m\u001b[43m,\u001b[49m\u001b[43m \u001b[49m\u001b[43mpackage\u001b[49m\u001b[43m,\u001b[49m\u001b[43m \u001b[49m\u001b[43mlevel\u001b[49m\u001b[43m)\u001b[49m\n",
      "File \u001b[0;32m<frozen importlib._bootstrap>:1030\u001b[0m, in \u001b[0;36m_gcd_import\u001b[0;34m(name, package, level)\u001b[0m\n",
      "File \u001b[0;32m<frozen importlib._bootstrap>:1007\u001b[0m, in \u001b[0;36m_find_and_load\u001b[0;34m(name, import_)\u001b[0m\n",
      "File \u001b[0;32m<frozen importlib._bootstrap>:984\u001b[0m, in \u001b[0;36m_find_and_load_unlocked\u001b[0;34m(name, import_)\u001b[0m\n",
      "\u001b[0;31mModuleNotFoundError\u001b[0m: No module named 'watermark'"
     ]
    }
   ],
   "source": [
    "%load_ext watermark\n",
    "%watermark -v -p numpy,scipy,bokeh,biocircuits,jupyterlab"
   ]
  },
  {
   "cell_type": "markdown",
   "id": "56e61009",
   "metadata": {},
   "source": [
    "<hr>\n",
    "\n",
    "## Answer: truth table of the metabolism of glucose\n",
    "\n",
    "glc | gly | cmet\n",
    ":---:|:---:|:----------:\n",
    "0 | 0 | 0\n",
    "1 | 0 | 0\n",
    "0 | 1 | 0\n",
    "1 | 1 | 1"
   ]
  },
  {
   "cell_type": "code",
   "execution_count": null,
   "id": "76663d21",
   "metadata": {},
   "outputs": [],
   "source": []
  }
 ],
 "metadata": {
  "kernelspec": {
   "display_name": "bls_py39",
   "language": "python",
   "name": "python3"
  },
  "language_info": {
   "codemirror_mode": {
    "name": "ipython",
    "version": 3
   },
   "file_extension": ".py",
   "mimetype": "text/x-python",
   "name": "python",
   "nbconvert_exporter": "python",
   "pygments_lexer": "ipython3",
   "version": "3.10.13"
  }
 },
 "nbformat": 4,
 "nbformat_minor": 5
}
