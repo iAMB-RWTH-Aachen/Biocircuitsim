{
 "cells": [
  {
   "cell_type": "markdown",
   "id": "8cc3ad3e-4887-42e1-ae48-f2ebf302f782",
   "metadata": {},
   "source": [
    "# Biocircuit Design\n",
    "\n",
    "<hr>"
   ]
  },
  {
   "cell_type": "markdown",
   "id": "7391adea-c379-46e6-9b66-a312ba6cbabb",
   "metadata": {},
   "source": [
    "**Learning objectives**\n",
    "- You can define the classification basis for logic gates. (#1)\n",
    "- You can write down the boolean logic for logic gates. (#2)\n",
    "- You can generate a truth table for a biological system. (#4)\n",
    "- You can distinguish *and* and *or* relationships. (#3)\n",
    "<hr>"
   ]
  },
  {
   "cell_type": "markdown",
   "id": "2243f863",
   "metadata": {},
   "source": [
    "### Exercise: Design a biocircuit for *Pseudomonas putida* carbon metabolism\n",
    "\n",
    "[*Pseudomonas putida*](https://www.ncbi.nlm.nih.gov/pmc/articles/PMC4495716/) is an industrial relevant microorganism which naturally produces PHA, a plastic precursor monomer. For a very specific process, we would like to design a circuit which enables us to make optimally use of our carbon resources. The preferred substrate for this specific proces is glucose. Glycerol can also be used, but results a lower product yield. We have a recycled feedstock which constains a mixture of glucose and glycerol. To make optimally use of the available glucose, we want to have a consumption profile where fist all glucose is consumed, before *P. putida* starts to consume glycerol. You can assume that the pathway is activated when the metabolite is present.\n",
    "\n",
    "<div style=\"width: 500px; margin: auto;\">\n",
    "\n",
    "![Desired metabolite consumption pattern](desired_metabolite_profile.png)\n",
    "\n",
    "</div>\n",
    "\n",
    "Your job is to design a biocircuit which enables this phenotype. Work through the material to get all the tools needed to solve the following exercises.\n",
    "\n",
    "1. Formulate a truth table for the glycerol pathway. \n",
    "2. Define the type of logic gate which you would use for each pathway, and write down the boolean logic.\n",
    "3. Think about the genetic components and levels needed to accomplish the logic gates, sketch a genetic interaction figure. Try to use as little genetic components as possible\n",
    "4. Combine the elements to design the experiment for the establishment of the genetic circuit. You have to pick one promoter (either activated by glucose or glycerol) and one regulator (glucose metabolism activator/repressor, or gycerol metabolism activator/repressor)"
   ]
  },
  {
   "cell_type": "code",
   "execution_count": 2,
   "id": "86b01552-87e8-4c14-bdcd-58b85d556ee1",
   "metadata": {
    "tags": [
     "hide-input"
    ]
   },
   "outputs": [
    {
     "name": "stdout",
     "output_type": "stream",
     "text": [
      "Done!\n"
     ]
    }
   ],
   "source": [
    "#Run this cell to set up the computing environment\n",
    "import numpy as np\n",
    "import os\n",
    "import random\n",
    " \n",
    "try:\n",
    "    import pydna\n",
    "except ImportError:\n",
    "    print(\"pydna not found, installing...\")\n",
    "    %pip install pydna\n",
    "    import pydna\n",
    "from pydna.design import primer_design\n",
    "from pydna.amplify import pcr\n",
    "from pydna.dseqrecord import Dseqrecord\n",
    "from pydna.gel import gel\n",
    "from pydna.ladders import GeneRuler_1kb_plus\n",
    "\n",
    "from BioCircuitSim_functions import (get_promoter_sequence, get_activator_sequence, get_repressor_sequence, \n",
    "                                     get_putida_genome, perform_batch_experiment, perform_pcr)\n",
    "\n",
    "Target_Dir = os.path.join(os.getcwd(),'Data','BioMotifSim')\n",
    "\n",
    "print('Done!')"
   ]
  },
  {
   "cell_type": "markdown",
   "id": "69639be9",
   "metadata": {},
   "source": [
    "## Brief introduction to biocircuits\n",
    "The material presented here will introduce you to some of the foundational concepts, approaches, and examples of biocircuits that will enable us to address the biological challenge of designing an experiment to enable a specific phenotype in *P. putida*. The key premise is that this problem and many similar problems can be addressed by thinking of biological systems in terms of *circuits* -- sets of molecular or cellular components that interact with another in specific ways.\n",
    "\n",
    "In this notebook we will use the idea of a circuit and the corresponding logic to enable a specific feature. We will show how to effectively analyze a problem and define a solution based on these principles.\n",
    "\n",
    "<hr>"
   ]
  },
  {
   "cell_type": "markdown",
   "id": "0542e157",
   "metadata": {},
   "source": [
    "## Logic of regulation \n",
    "In the example of carbon metabolism in *P. putida*, we need to define the specific interaction between the metabolites and the metabolism of these metabolites. Because glucose and glycerol are both present in our envisioned bioprocess, we need to specify how each metabolite needs to *interact* with the expressed systems.\n",
    "\n",
    "For the sake of illustration, let us assume we are discussing the effect of glucose and glycerol on glucose metabolism. As an example, we take the scenario where both glucose and glycerol are required to activate carbon metabolism. For example, both could be binding partners for the recruitment of polymerase to the promoter of a sugar transporter. We call this **AND logic**. In other words, to get expression of the sugar transporter, we must have `glucose AND glycerol`. Conversely, if either glucose or glycerol may each alone activate carbon metabolism, we have **OR logic**. That is, to get expression of the sugar transporter, we must have `glucose OR glycerol`."
   ]
  },
  {
   "cell_type": "markdown",
   "id": "bbca0f26-cc4a-44f9-b514-ae74816822e9",
   "metadata": {},
   "source": [
    "### Formulation of logic in a truth table\n",
    "Applying this logic to a simple example might be straightforward, but it can quickly become complex when applied to real biological systems. \n",
    "Let us start first with the simple example as before with glucose and glycerol, both activating, with AND logic. To help conceptualize how the logic translates into expression of carbon metabolism, we can construct a **truth table** for whether or not carbon metabolism (cmet) is on, given the on/off status of glucose (glc) and glycerol (gly). The truth table is shown below, with a zero entry meaning that the gene is not on and a one entry meaning it is on.\n",
    "\n",
    "\n",
    "glc | gly | cmet\n",
    ":---:|:---:|:----------:\n",
    "0 | 0 | 0\n",
    "0 | 1 | 0\n",
    "1 | 0 | 0\n",
    "1 | 1 | 1\n",
    "\n",
    "We can also construct a truth table for OR logic with glucose and glycerol both activating.\n",
    "\n",
    "\n",
    "glc | gly | cmet\n",
    ":---:|:---:|:----------:\n",
    "0 | 0 | 0\n",
    "0 | 1 | 1\n",
    "1 | 0 | 1\n",
    "1 | 1 | 1\n",
    "\n",
    "Before going to the next part of the notebook, think about the truth table for glucose metabolism in the exercise. What is the envisioned relation between presence of glucose and glycerol on the metabolism of glucose? Check your answer with the truth table at the end of this notebook\n"
   ]
  },
  {
   "cell_type": "markdown",
   "id": "dbba3613-b050-47de-b97f-3e0c9376c66e",
   "metadata": {},
   "source": [
    "### Connection to logic gates\n",
    "\n",
    "When two \"input\" effectors regulate the expression of a single \"output\" gene, we are tempted to connect the circuit architectures to [logic gates](https://en.wikipedia.org/wiki/Logic_gate). This is both useful and dangerous.\n",
    "\n",
    "First, we will discuss the utility. [Boolean algebra](https://en.wikipedia.org/wiki/Boolean_algebra) is a very powerful tool in developing circuits in digital electronics, and may also be a powerful framework for designing biological circuits. Briefly, Boolean algebra deals with only trues and falses, or ones and zeros. It has three fundamental operations, conjuction (∧), disjunction (∨), and negation (¬). They are defined such that \n",
    "\n",
    "\\begin{align}\n",
    "&a \\land b = \\left\\{\\begin{array}{ll}\n",
    "1 & \\text{if } a=b=1 \\\\\n",
    "0 & \\text{otherwise},\n",
    "\\end{array}\n",
    "\\right.\\\\[1em]\n",
    "&a \\lor b = \\left\\{\\begin{array}{ll}\n",
    "0 & \\text{if } a=b=0 \\\\\n",
    "1 & \\text{otherwise},\n",
    "\\end{array}\n",
    "\\right.\\\\[1em]\n",
    "&\\lnot a = \\left\\{\\begin{array}{ll}\n",
    "0 & \\text{if } a=1 \\\\\n",
    "1 & \\text{if } a=0.\n",
    "\\end{array}\n",
    "\\right.\n",
    "\\end{align}\n",
    "\n",
    "One could think of two activators X and Y regulating expression of a gene Z with AND logic as Z = X ∧ Y. The relation X ∧ Y has a name; it is called an AND gate. The other architectures also represent logic gates. Below is a table of the analogous logic gates and Boolean algebra expressions for the two-effector regulation architectures we have considered.\n",
    "\n",
    "X | Y | regulatory logic |Boolean algebra\n",
    ":---:|:---:|:----------:|:---:|\n",
    "activator | activator | AND | X ∧ Y\n",
    "activator | activator | OR | X ∨ Y\n",
    "repressor | repressor | AND | ¬X ∧ ¬Y = ¬(X ∨ Y)\n",
    "repressor | repressor | OR | ¬X ∨ ¬Y = ¬(X ∧ Y)\n",
    "activator | repressor | AND |  X ∧ ¬Y\n",
    "activator | repressor | OR | X ∨ ¬Y\n",
    "\n",
    "\n",
    "Now, let's consider the danger in using digital logic with these circuits. While thinking digitally for these circuits has its merit, we must always remember that biological circuits are more fuzzy. If you will attend the lecture about logic gates later in the lecture series, you will learn more about the why and how.\n",
    "\n",
    "<hr>"
   ]
  },
  {
   "cell_type": "markdown",
   "id": "88888634",
   "metadata": {},
   "source": [
    "## Starting the exercises\n",
    "\n",
    "Now you have gathered enough knowledge to perform the exercises. First, try to answer question 1 til 3, which will give you a theoretical model of the problem we are trying to solve. Afterwards, you can continue with implementing your biocircuit. In the following cells, you find the code required for making exercise 4. You only have to change those parts which are marked with multiple `#`.\n",
    "\n",
    "### Execution of exercise 4\n",
    "First we need to decide on the parts which should go in the construct. We will make a construct of a gene encoding for a regulatory molecule. The gene expression can be made conditional, by adding a inducible promoter which drives the expression of this gene. In the following *genetic interaction figure* you see how this works for a promoter inducible by glucose: if glucose is present, RNA polymerase will bind and express the gene behind the promoter, if glucose is absent, the polymerase will not bind and the gene will not be expressed. The gene behind the promoter in the example is a gene which activates the metabolism of glucose into biomass and PHA.  \n",
    "  \n",
    "\n",
    "<div style=\"width: 500px; margin: auto;\">\n",
    "\n",
    "![example promoter+regulator](biocircuits_construct_example.png)\n",
    "\n",
    "</div>\n",
    "\n",
    "You can choose out of the following parts to make your constructs:\n",
    "promoter | induced by \n",
    ":---:|:---:\n",
    "promoter_glc | glucose \n",
    "promoter_glyc | glycogen \n",
    "\n",
    "and\n",
    "\n",
    "regulator gene | mode of action | affects metabolism of\n",
    ":---:|:---:|:---:\n",
    "glucose_activator | activation | glucose \n",
    "glucose_repressor | repression | glucose\n",
    "glycerol_activator | activation | glycerol\n",
    "glycerol_repressor | repression | glycerol"
   ]
  },
  {
   "cell_type": "code",
   "execution_count": 1,
   "id": "9a35852f",
   "metadata": {},
   "outputs": [
    {
     "ename": "KeyError",
     "evalue": "'Please provide your student number in the previous cell, otherwise the code will not run'",
     "output_type": "error",
     "traceback": [
      "\u001b[0;31m---------------------------------------------------------------------------\u001b[0m",
      "\u001b[0;31mNameError\u001b[0m                                 Traceback (most recent call last)",
      "Cell \u001b[0;32mIn[1], line 8\u001b[0m\n\u001b[1;32m      7\u001b[0m \u001b[38;5;28;01mtry\u001b[39;00m:\n\u001b[0;32m----> 8\u001b[0m     \u001b[43mrandom\u001b[49m\u001b[38;5;241m.\u001b[39mseed(student_number)\n\u001b[1;32m      9\u001b[0m \u001b[38;5;28;01mexcept\u001b[39;00m:\n",
      "\u001b[0;31mNameError\u001b[0m: name 'random' is not defined",
      "\nDuring handling of the above exception, another exception occurred:\n",
      "\u001b[0;31mKeyError\u001b[0m                                  Traceback (most recent call last)",
      "Cell \u001b[0;32mIn[1], line 10\u001b[0m\n\u001b[1;32m      8\u001b[0m     random\u001b[38;5;241m.\u001b[39mseed(student_number)\n\u001b[1;32m      9\u001b[0m \u001b[38;5;28;01mexcept\u001b[39;00m:\n\u001b[0;32m---> 10\u001b[0m     \u001b[38;5;28;01mraise\u001b[39;00m \u001b[38;5;167;01mKeyError\u001b[39;00m(\u001b[38;5;124m'\u001b[39m\u001b[38;5;124mPlease provide your student number in the previous cell, otherwise the code will not run\u001b[39m\u001b[38;5;124m'\u001b[39m)\n\u001b[1;32m     12\u001b[0m \u001b[38;5;66;03m#We obtain the sequences of the promoters and regulators from an in-house library\u001b[39;00m\n\u001b[1;32m     13\u001b[0m promoter_glc \u001b[38;5;241m=\u001b[39m get_promoter_sequence(activator \u001b[38;5;241m=\u001b[39m \u001b[38;5;124m'\u001b[39m\u001b[38;5;124mglucose\u001b[39m\u001b[38;5;124m'\u001b[39m)\n",
      "\u001b[0;31mKeyError\u001b[0m: 'Please provide your student number in the previous cell, otherwise the code will not run'"
     ]
    }
   ],
   "source": [
    "#####################################################\n",
    "# FILL IN YOUR STUDENT ID\n",
    "student_number = None\n",
    "# END OF CODE\n",
    "#####################################################\n",
    "\n",
    "try:\n",
    "    random.seed(student_number)\n",
    "except:\n",
    "    raise KeyError('Please provide your student number in the previous cell, otherwise the code will not run')\n",
    "    \n",
    "#We obtain the sequences of the promoters and regulators from an in-house library\n",
    "promoter_glc = get_promoter_sequence(activator = 'glucose')\n",
    "promoter_glyc = get_promoter_sequence(activator = 'glycerol')\n",
    "\n",
    "glucose_activator = get_activator_sequence(metabolism = 'glucose')\n",
    "glucose_repressor = get_repressor_sequence(metabolism = 'glucose')\n",
    "glycerol_activator = get_activator_sequence(metabolism = 'glycerol')\n",
    "glycerol_repressor = get_repressor_sequence(metabolism = 'glycerol')"
   ]
  },
  {
   "cell_type": "code",
   "execution_count": 4,
   "id": "76ef9d2e",
   "metadata": {},
   "outputs": [
    {
     "name": "stdout",
     "output_type": "stream",
     "text": [
      "The promoter of length 56 nt is: TTCTCGATACAGTTCACGCCCTTGCGAGTAGCTTGTAATTGCTCTTCTGGGGGTCA\n",
      "The repressor of length 174 is: TCGGGCTATAGGCGCTCAGGCCGGCCCGGACGGATCGAGCTGGAGGCCTGACCTCCGTATGGTTCCCGACACTTTAGCGCATCTGCGACAGAGAGTGGTTACACGTTTTGCAGTGCGGTAAAATCCTTTCATTAGCCCTCCCGGGAAGCAGGCACGGGGTTTCTATATAGTAGA\n"
     ]
    }
   ],
   "source": [
    "#######################################################\n",
    "# FILL YOUR DECISION IN HERE\n",
    "promoter = None\n",
    "regulator = None\n",
    "# END OF CODE\n",
    "#######################################################\n",
    "\n",
    "print(f'The promoter of length {len(promoter)} nt is: {promoter}')\n",
    "print(f'The repressor of length {len(regulator)} is: {regulator}')"
   ]
  },
  {
   "cell_type": "markdown",
   "id": "a0343c40",
   "metadata": {},
   "source": [
    "##### Do the cloning\n",
    "Now you have designed the circuit, we only have to insert it into *P. putida*. Assuming your colleagues have implemented this already, all you need to do is run a PCR to validate the results"
   ]
  },
  {
   "cell_type": "code",
   "execution_count": 5,
   "id": "3fa3c144",
   "metadata": {},
   "outputs": [
    {
     "name": "stderr",
     "output_type": "stream",
     "text": [
      "/home/samiralvdb/Software/anaconda3/envs/BioLabSim_py39/lib/python3.9/site-packages/Bio/SeqFeature.py:230: BiopythonDeprecationWarning: Please use .location.strand rather than .strand\n",
      "  warnings.warn(\n"
     ]
    },
    {
     "data": {
      "text/plain": [
       "Dseqrecord(-230)\n",
       "\u001b[48;5;11mTTCTCGATACAGTTCACGCCCTTGCGAGTAGCTTGTAATTGCTCTTCTGGGGGTCATCGGGCTATAGGCGCTCAGGCCGGCCCGGACGGATCGAGCTGGAGGCCTGACCTCCGTATGGTTCCCGACACTTTAGCGCATCTGCGACAGAGAGTGGTTACACGTTTTGCAGTGCGGTAAAATCCTTTCATTAGCCCTCCCGGGAAGCAGGCACGGGGTTTCTATATAGTAGA\u001b[0m\n",
       "AAGAGCTATGTCAAGTGCGGGAACGCTCATCGAACATTAACGAGAAGACCCCCAGTAGCCCGATATCCGCGAGTCCGGCCGGGCCTGCCTAGCTCGACCTCCGGACTGGAGGCATACCAAGGGCTGTGAAATCGCGTAGACGCTGTCTCTCACCAATGTGCAAAACGTCACGCCATTTTAGGAAAGTAATCGGGAGGGCCCTTCGTCCGTGCCCCAAAGATATATCATCT"
      ]
     },
     "execution_count": 5,
     "metadata": {},
     "output_type": "execute_result"
    }
   ],
   "source": [
    "# create the insert sequence and see how the DNA looks like\n",
    "insert = Dseqrecord(promoter+regulator)\n",
    "insert.add_feature()\n",
    "insert.figure()"
   ]
  },
  {
   "cell_type": "markdown",
   "id": "387163aa",
   "metadata": {},
   "source": [
    "#### Do the PCR"
   ]
  },
  {
   "cell_type": "code",
   "execution_count": 18,
   "id": "403e1361",
   "metadata": {},
   "outputs": [],
   "source": [
    "#design the primers for pcr amplification\n",
    "primers = primer_design(insert)\n",
    "#get the modified\n",
    "putida_genome = get_putida_genome(promoter, regulator)\n",
    "\n",
    "# Do the PCR\n",
    "pcr_product = perform_pcr(primers.forward_primer, primers.reverse_primer, putida_genome)"
   ]
  },
  {
   "cell_type": "markdown",
   "id": "7428758b",
   "metadata": {},
   "source": [
    "check if your PCR worked out by visualizing the resulting product and running a gel. If it didn't work, you can rerun the PCR."
   ]
  },
  {
   "cell_type": "code",
   "execution_count": 19,
   "id": "57fa97e1",
   "metadata": {},
   "outputs": [
    {
     "data": {
      "text/plain": [
       "Dseqrecord(-57)\n",
       "\u001b[48;5;11mTTCTCGATACAGTTCACGTCTACTATATAGAAACCCCGTTTCTCGATACAGTTCACG\u001b[0m\n",
       "AAGAGCTATGTCAAGTGCAGATGATATATCTTTGGGGCAAAGAGCTATGTCAAGTGC"
      ]
     },
     "execution_count": 19,
     "metadata": {},
     "output_type": "execute_result"
    }
   ],
   "source": [
    "# If you want to see your pcr product, uncomment the next line of code\n",
    "#pcr_product[0].figure()"
   ]
  },
  {
   "cell_type": "code",
   "execution_count": 24,
   "id": "fd08fb04",
   "metadata": {},
   "outputs": [
    {
     "data": {
      "image/jpeg": "[encoded data removed]",
      "image/png": "[encoded data removed]",
      "text/plain": [
       "<PIL.Image.Image image mode=RGB size=180x600>"
      ]
     },
     "execution_count": 24,
     "metadata": {},
     "output_type": "execute_result"
    }
   ],
   "source": [
    "# Create a gel to see if the PCR and insertion worked\n",
    "im = gel(\n",
    "    [GeneRuler_1kb_plus,\n",
    "     [pcr_product], #The pcr product of the genome: is your construct in there?\n",
    "    ])\n",
    "\n",
    "im"
   ]
  },
  {
   "cell_type": "markdown",
   "id": "d96a2e1b",
   "metadata": {},
   "source": [
    "#### Check the resulting metabolite consumption profiles\n",
    "Now we are sure that the insert is there, we will run some experiments to check if we get the required phenotype. In this case we are interested in the metabolite consumption profile of glucose and glycerol."
   ]
  },
  {
   "cell_type": "code",
   "execution_count": 9,
   "id": "d435bc4f",
   "metadata": {},
   "outputs": [
    {
     "data": {
      "image/png": "[encoded data removed]",
      "text/plain": [
       "<Figure size 640x480 with 1 Axes>"
      ]
     },
     "metadata": {},
     "output_type": "display_data"
    }
   ],
   "source": [
    "perform_batch_experiment(putida_genome, pcr_product)"
   ]
  },
  {
   "cell_type": "markdown",
   "id": "67f4d348",
   "metadata": {},
   "source": [
    "## Additional material\n",
    "Did you enjoy working with the concepts introduced in this seminar? If yes, we recommend the following resources:\n",
    "- The Jupyter-book by [Elowitz and Bois](https://biocircuits.github.io/index.html) gives detailed treatment and further examples for different models of genetic circuits. \n",
    "- With the python package [pydna](https://github.com/BjornFJohansson/pydna), you cannot only do 'in silico' experiments like in this notebook, but you can also build your lab notebook in Python. They even provide a [web interface](http://pydna.pythonanywhere.com/), which allows you to design primers and do PCR.\n",
    "- Marc Facciotti from the university of California has made a good [webpage](https://bio.libretexts.org/Courses/University_of_California_Davis/BIS_2A%3A_Introductory_Biology_(Britt)/02%3A_Face-2-Face/2.10%3A_Regulation_of_Gene_Expression) about the principles and patterns in the regulation of gene expression."
   ]
  },
  {
   "cell_type": "markdown",
   "id": "b0ce48b0-774f-49ef-859b-67a1f4185d4a",
   "metadata": {},
   "source": [
    "<hr>\n",
    "\n",
    "## References\n",
    "\n",
    "- Bintu, L., et al., Transcriptional regulation by the numbers: models, _Curr. Op. Genet. Dev._, 15, 116–124, 2005.([link](https://doi.org/10.1016/j.gde.2005.02.007))\n",
    "- Milo, R., et al., Network motifs: Simple building blocks of complex networks, _Science_, 298, 824–827, 2002. ([link](https://doi.org/10.1126/science.298.5594.824))"
   ]
  },
  {
   "cell_type": "markdown",
   "id": "56e61009",
   "metadata": {},
   "source": [
    "<hr>\n",
    "\n",
    "## Answer: truth table of the metabolism of glucose\n",
    "\n",
    "glc | gly | cmet\n",
    ":---:|:---:|:----------:\n",
    "0 | 0 | 0\n",
    "1 | 0 | 0\n",
    "0 | 1 | 0\n",
    "1 | 1 | 1"
   ]
  }
 ],
 "metadata": {
  "kernelspec": {
   "display_name": "BioLabSym (python 3.9)",
   "language": "python",
   "name": "biolabsim-py39"
  },
  "language_info": {
   "codemirror_mode": {
    "name": "ipython",
    "version": 3
   },
   "file_extension": ".py",
   "mimetype": "text/x-python",
   "name": "python",
   "nbconvert_exporter": "python",
   "pygments_lexer": "ipython3",
   "version": "3.9.19"
  }
 },
 "nbformat": 4,
 "nbformat_minor": 5
}
